{
 "cells": [
  {
   "cell_type": "code",
   "execution_count": 1,
   "metadata": {},
   "outputs": [],
   "source": [
    "import warnings\n",
    "warnings.filterwarnings('ignore')\n",
    "\n",
    "import pickle\n",
    "import numpy as np\n",
    "import tensorflow as tf\n",
    "from tensorflow.keras.losses import CategoricalCrossentropy, SparseCategoricalCrossentropy\n",
    "from tensorflow.keras.optimizers import Adam\n",
    "from tensorflow.keras.models import Model, load_model\n",
    "from tensorflow.keras.layers import Input, LSTM, Dense, Embedding, TimeDistributed"
   ]
  },
  {
   "cell_type": "code",
   "execution_count": 2,
   "metadata": {},
   "outputs": [
    {
     "name": "stdout",
     "output_type": "stream",
     "text": [
      "87599 questions in our training set\n"
     ]
    }
   ],
   "source": [
    "training_data = pickle.load(open(\"../data/train-v1.1.pkl\", \"rb\"))\n",
    "print(\"%d questions in our training set\" % len(training_data))"
   ]
  },
  {
   "cell_type": "code",
   "execution_count": 3,
   "metadata": {},
   "outputs": [
    {
     "name": "stdout",
     "output_type": "stream",
     "text": [
      "10570 questions in our validation set\n"
     ]
    }
   ],
   "source": [
    "val_data = pickle.load(open(\"../data/dev-v1.1.pkl\", \"rb\"))\n",
    "print(\"%d questions in our validation set\" % len(val_data))"
   ]
  },
  {
   "cell_type": "code",
   "execution_count": 4,
   "metadata": {},
   "outputs": [
    {
     "name": "stdout",
     "output_type": "stream",
     "text": [
      "70056 words in our model's vocabulary\n"
     ]
    }
   ],
   "source": [
    "word_to_index, index_to_words, word_to_vec_map = pickle.load(open(\"../embeddings/glove.6B.50d.pkl\", \"rb\"))\n",
    "vocab_len = len(index_to_words)\n",
    "print(\"%d words in our model's vocabulary\" % vocab_len)"
   ]
  },
  {
   "cell_type": "code",
   "execution_count": 5,
   "metadata": {},
   "outputs": [
    {
     "data": {
      "text/plain": [
       "((87599, 766), (87599, 47))"
      ]
     },
     "execution_count": 5,
     "metadata": {},
     "output_type": "execute_result"
    }
   ],
   "source": [
    "max_qc_len = max([len(qac[\"question\"] + [\"<sep>\"] + qac[\"context\"]) for qac in training_data])\n",
    "max_ans_len = max([len(qac[\"answer\"]) + 1 for qac in training_data])\n",
    "\n",
    "def preprocess(data):\n",
    "    encoder_input_data = np.zeros((len(data), max_qc_len))\n",
    "    decoder_input_data = np.zeros((len(data), max_ans_len))\n",
    "    decoder_target_data = np.zeros((len(data), max_ans_len), dtype=np.uint8)\n",
    "\n",
    "    for i in range(encoder_input_data.shape[0]):\n",
    "        qc = data[i][\"question\"] + [\"<sep>\"] + data[i][\"context\"]\n",
    "        encoder_input_data[i,:] = [word_to_index[word] if word in word_to_index else word_to_index[\"<unk>\"] for word in qc] + [0 for j in range(max_qc_len - len(qc))]\n",
    "\n",
    "        ans_input = [\"<start>\"] + data[i][\"answer\"]\n",
    "        decoder_input_data[i,:] = [word_to_index[word] if word in word_to_index else word_to_index[\"<unk>\"] for word in ans_input] + [0 for j in range(max_ans_len - len(ans_input))]\n",
    "\n",
    "        ans_output = data[i][\"answer\"] + [\"<end>\"]\n",
    "        decoder_target_data[i,:] = [word_to_index[word] if word in word_to_index else word_to_index[\"<unk>\"] for word in ans_output] + [0 for j in range(max_ans_len - len(ans_input))]\n",
    "    \n",
    "    return encoder_input_data, decoder_input_data, decoder_target_data\n",
    "\n",
    "encoder_input_data, decoder_input_data, decoder_target_data = preprocess(training_data)\n",
    "encoder_input_data.shape, decoder_input_data.shape"
   ]
  },
  {
   "cell_type": "code",
   "execution_count": 6,
   "metadata": {},
   "outputs": [],
   "source": [
    "emb_dim = len(word_to_vec_map['a'])\n",
    "state_dim = 512\n",
    "batch_size = 16\n",
    "epochs = 1\n",
    "learning_rate = 0.01\n",
    "path = \"saves/keras_LSTMv1.h5\"\n",
    "load = True"
   ]
  },
  {
   "cell_type": "code",
   "execution_count": 9,
   "metadata": {},
   "outputs": [
    {
     "name": "stdout",
     "output_type": "stream",
     "text": [
      "Model: \"model_2\"\n",
      "__________________________________________________________________________________________________\n",
      "Layer (type)                    Output Shape         Param #     Connected to                     \n",
      "==================================================================================================\n",
      "input_6 (InputLayer)            [(None, 47)]         0                                            \n",
      "__________________________________________________________________________________________________\n",
      "input_5 (InputLayer)            [(None, 766)]        0                                            \n",
      "__________________________________________________________________________________________________\n",
      "embedding_2 (Embedding)         multiple             3502800     input_5[0][0]                    \n",
      "                                                                 input_6[0][0]                    \n",
      "__________________________________________________________________________________________________\n",
      "lstm_4 (LSTM)                   [(None, 512), (None, 1153024     embedding_2[0][0]                \n",
      "__________________________________________________________________________________________________\n",
      "lstm_5 (LSTM)                   [(None, 47, 512), (N 1153024     embedding_2[1][0]                \n",
      "                                                                 lstm_4[0][1]                     \n",
      "                                                                 lstm_4[0][2]                     \n",
      "__________________________________________________________________________________________________\n",
      "time_distributed_2 (TimeDistrib (None, 47, 70056)    35938728    lstm_5[0][0]                     \n",
      "==================================================================================================\n",
      "Total params: 41,747,576\n",
      "Trainable params: 38,244,776\n",
      "Non-trainable params: 3,502,800\n",
      "__________________________________________________________________________________________________\n"
     ]
    }
   ],
   "source": [
    "encoder_inputs = Input(shape=(max_qc_len,), dtype='int32')\n",
    "\n",
    "emb_matrix = np.zeros((vocab_len, emb_dim))\n",
    "for word, index in word_to_index.items():\n",
    "    if index != 0 :\n",
    "        emb_matrix[index, :] = word_to_vec_map[word]\n",
    "embedding_layer = Embedding(vocab_len, emb_dim, trainable=False, mask_zero=True)\n",
    "embedding_layer.build((None,))\n",
    "embedding_layer.set_weights([emb_matrix])\n",
    "\n",
    "encoder_embeddings = embedding_layer(encoder_inputs)\n",
    "\n",
    "encoder = LSTM(state_dim, return_state=True)(encoder_embeddings)\n",
    "\n",
    "encoder_outputs, state_h, state_c = encoder\n",
    "\n",
    "encoder_states = [state_h, state_c]\n",
    "\n",
    "\n",
    "decoder_inputs = Input(shape=(max_ans_len,))\n",
    "decoder_embeddings = embedding_layer(decoder_inputs)\n",
    "decoder_lstm = LSTM(state_dim, return_sequences=True, return_state=True)\n",
    "\n",
    "decoder_outputs, _, _ = decoder_lstm(decoder_embeddings, initial_state=encoder_states)\n",
    "outputs = TimeDistributed(Dense(vocab_len, activation='softmax'))(decoder_outputs)\n",
    "\n",
    "\n",
    "model = Model([encoder_inputs, decoder_inputs], outputs)\n",
    "\n",
    "if load:\n",
    "    loaded_model = load_model(path)\n",
    "    model.set_weights(loaded_model.get_weights())\n",
    "model.summary()"
   ]
  },
  {
   "cell_type": "code",
   "execution_count": 10,
   "metadata": {},
   "outputs": [],
   "source": [
    "opt = Adam(lr=0.0001)\n",
    "model.compile(optimizer=opt, loss='sparse_categorical_crossentropy')"
   ]
  },
  {
   "cell_type": "code",
   "execution_count": 11,
   "metadata": {},
   "outputs": [
    {
     "name": "stdout",
     "output_type": "stream",
     "text": [
      "1000/1000 [==============================] - 110s 110ms/sample - loss: 0.3072\n"
     ]
    }
   ],
   "source": [
    "model.fit([encoder_input_data[:1000], decoder_input_data[:1000]], decoder_target_data[:1000],\n",
    "          batch_size=batch_size, epochs=epochs)\n",
    "model.save(path)"
   ]
  },
  {
   "cell_type": "code",
   "execution_count": 14,
   "metadata": {},
   "outputs": [],
   "source": [
    "encoder_input_val, decoder_input_val, decoder_target_val = preprocess(val_data)"
   ]
  },
  {
   "cell_type": "code",
   "execution_count": null,
   "metadata": {},
   "outputs": [
    {
     "name": "stdout",
     "output_type": "stream",
     "text": [
      "10176/10570 [===========================>..] - ETA: 13s - loss: 0.3954"
     ]
    }
   ],
   "source": [
    "model.evaluate([encoder_input_val, decoder_input_val], decoder_target_val)"
   ]
  },
  {
   "cell_type": "code",
   "execution_count": null,
   "metadata": {},
   "outputs": [],
   "source": []
  }
 ],
 "metadata": {
  "kernelspec": {
   "display_name": "Python 3",
   "language": "python",
   "name": "python3"
  },
  "language_info": {
   "codemirror_mode": {
    "name": "ipython",
    "version": 3
   },
   "file_extension": ".py",
   "mimetype": "text/x-python",
   "name": "python",
   "nbconvert_exporter": "python",
   "pygments_lexer": "ipython3",
   "version": "3.7.3"
  }
 },
 "nbformat": 4,
 "nbformat_minor": 2
}
