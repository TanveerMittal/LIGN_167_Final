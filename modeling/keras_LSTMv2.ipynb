{
 "cells": [
  {
   "cell_type": "code",
   "execution_count": 1,
   "metadata": {},
   "outputs": [],
   "source": [
    "import warnings\n",
    "warnings.filterwarnings('ignore')\n",
    "\n",
    "import pickle\n",
    "import numpy as np\n",
    "import tensorflow as tf\n",
    "from tensorflow.keras.losses import CategoricalCrossentropy, SparseCategoricalCrossentropy\n",
    "from tensorflow.keras.optimizers import Adam\n",
    "from tensorflow.keras.models import Model, load_model\n",
    "from tensorflow.keras.layers import Input, LSTM, Dense, Embedding, TimeDistributed"
   ]
  },
  {
   "cell_type": "code",
   "execution_count": 2,
   "metadata": {},
   "outputs": [
    {
     "name": "stdout",
     "output_type": "stream",
     "text": [
      "87599 questions in our training set\n"
     ]
    }
   ],
   "source": [
    "training_data = pickle.load(open(\"../data/train-v1.1.pkl\", \"rb\"))\n",
    "print(\"%d questions in our training set\" % len(training_data))"
   ]
  },
  {
   "cell_type": "code",
   "execution_count": 3,
   "metadata": {},
   "outputs": [
    {
     "name": "stdout",
     "output_type": "stream",
     "text": [
      "10570 questions in our validation set\n"
     ]
    }
   ],
   "source": [
    "val_data = pickle.load(open(\"../data/dev-v1.1.pkl\", \"rb\"))\n",
    "print(\"%d questions in our validation set\" % len(val_data))"
   ]
  },
  {
   "cell_type": "code",
   "execution_count": 4,
   "metadata": {},
   "outputs": [
    {
     "name": "stdout",
     "output_type": "stream",
     "text": [
      "70056 words in our model's vocabulary\n"
     ]
    }
   ],
   "source": [
    "word_to_index, index_to_words, word_to_vec_map = pickle.load(open(\"../embeddings/glove.6B.50d.pkl\", \"rb\"))\n",
    "vocab_len = len(index_to_words)\n",
    "print(\"%d words in our model's vocabulary\" % vocab_len)"
   ]
  },
  {
   "cell_type": "code",
   "execution_count": 5,
   "metadata": {},
   "outputs": [
    {
     "data": {
      "text/plain": [
       "((87599, 766), (87599, 47))"
      ]
     },
     "execution_count": 5,
     "metadata": {},
     "output_type": "execute_result"
    }
   ],
   "source": [
    "max_qc_len = max([len(qac[\"question\"] + [\"<sep>\"] + qac[\"context\"]) for qac in training_data])\n",
    "max_ans_len = max([len(qac[\"answer\"]) + 1 for qac in training_data])\n",
    "\n",
    "def preprocess(data):\n",
    "    encoder_input_data = np.zeros((len(data), max_qc_len))\n",
    "    decoder_input_data = np.zeros((len(data), max_ans_len))\n",
    "    decoder_target_data = np.zeros((len(data), max_ans_len), dtype=np.uint8)\n",
    "\n",
    "    for i in range(encoder_input_data.shape[0]):\n",
    "        qc = data[i][\"question\"] + [\"<sep>\"] + data[i][\"context\"]\n",
    "        encoder_input_data[i,:] = [word_to_index[word] if word in word_to_index else word_to_index[\"<unk>\"] for word in qc] + [0 for j in range(max_qc_len - len(qc))]\n",
    "\n",
    "        ans_input = [\"<start>\"] + data[i][\"answer\"]\n",
    "        decoder_input_data[i,:] = [word_to_index[word] if word in word_to_index else word_to_index[\"<unk>\"] for word in ans_input] + [0 for j in range(max_ans_len - len(ans_input))]\n",
    "\n",
    "        ans_output = data[i][\"answer\"] + [\"<end>\"]\n",
    "        decoder_target_data[i,:] = [word_to_index[word] if word in word_to_index else word_to_index[\"<unk>\"] for word in ans_output] + [0 for j in range(max_ans_len - len(ans_input))]\n",
    "    \n",
    "    return encoder_input_data, decoder_input_data, decoder_target_data\n",
    "\n",
    "encoder_input_data, decoder_input_data, decoder_target_data = preprocess(training_data)\n",
    "encoder_input_data.shape, decoder_input_data.shape"
   ]
  },
  {
   "cell_type": "code",
   "execution_count": 6,
   "metadata": {},
   "outputs": [],
   "source": [
    "emb_dim = len(word_to_vec_map['a'])\n",
    "state_dim = 512\n",
    "batch_size = 16\n",
    "epochs = 1\n",
    "learning_rate = 0.01\n",
    "path = \"saves/keras_LSTMv2_weights.pkl\"\n",
    "load = True"
   ]
  },
  {
   "cell_type": "code",
   "execution_count": 7,
   "metadata": {},
   "outputs": [
    {
     "name": "stderr",
     "output_type": "stream",
     "text": [
      "WARNING: Logging before flag parsing goes to stderr.\n",
      "W1212 18:06:14.464897 140551604123456 deprecation.py:506] From /opt/conda/lib/python3.7/site-packages/tensorflow/python/keras/initializers.py:119: calling RandomUniform.__init__ (from tensorflow.python.ops.init_ops) with dtype is deprecated and will be removed in a future version.\n",
      "Instructions for updating:\n",
      "Call initializer instance with the dtype argument instead of passing it to the constructor\n",
      "W1212 18:06:15.581856 140551604123456 deprecation.py:506] From /opt/conda/lib/python3.7/site-packages/tensorflow/python/ops/init_ops.py:1251: calling VarianceScaling.__init__ (from tensorflow.python.ops.init_ops) with dtype is deprecated and will be removed in a future version.\n",
      "Instructions for updating:\n",
      "Call initializer instance with the dtype argument instead of passing it to the constructor\n",
      "W1212 18:06:16.293735 140551604123456 deprecation.py:323] From /opt/conda/lib/python3.7/site-packages/tensorflow/python/keras/backend.py:3794: add_dispatch_support.<locals>.wrapper (from tensorflow.python.ops.array_ops) is deprecated and will be removed in a future version.\n",
      "Instructions for updating:\n",
      "Use tf.where in 2.0, which has the same broadcast rule as np.where\n"
     ]
    },
    {
     "name": "stdout",
     "output_type": "stream",
     "text": [
      "Model: \"model\"\n",
      "__________________________________________________________________________________________________\n",
      "Layer (type)                    Output Shape         Param #     Connected to                     \n",
      "==================================================================================================\n",
      "input_2 (InputLayer)            [(None, 47)]         0                                            \n",
      "__________________________________________________________________________________________________\n",
      "input_1 (InputLayer)            [(None, 766)]        0                                            \n",
      "__________________________________________________________________________________________________\n",
      "embedding (Embedding)           multiple             3502800     input_1[0][0]                    \n",
      "                                                                 input_2[0][0]                    \n",
      "__________________________________________________________________________________________________\n",
      "lstm (LSTM)                     [(None, 512), (None, 1153024     embedding[0][0]                  \n",
      "__________________________________________________________________________________________________\n",
      "lstm_1 (LSTM)                   [(None, 47, 512), (N 1153024     embedding[1][0]                  \n",
      "                                                                 lstm[0][1]                       \n",
      "                                                                 lstm[0][2]                       \n",
      "__________________________________________________________________________________________________\n",
      "time_distributed (TimeDistribut (None, 47, 70056)    35938728    lstm_1[0][0]                     \n",
      "==================================================================================================\n",
      "Total params: 41,747,576\n",
      "Trainable params: 38,244,776\n",
      "Non-trainable params: 3,502,800\n",
      "__________________________________________________________________________________________________\n"
     ]
    }
   ],
   "source": [
    "encoder_inputs = Input(shape=(max_qc_len,), dtype='int32')\n",
    "\n",
    "emb_matrix = np.zeros((vocab_len, emb_dim))\n",
    "for word, index in word_to_index.items():\n",
    "    if index != 0 :\n",
    "        emb_matrix[index, :] = word_to_vec_map[word]\n",
    "embedding_layer = Embedding(vocab_len, emb_dim, trainable=False, mask_zero=True)\n",
    "embedding_layer.build((None,))\n",
    "embedding_layer.set_weights([emb_matrix])\n",
    "\n",
    "encoder_embeddings = embedding_layer(encoder_inputs)\n",
    "\n",
    "encoder = LSTM(state_dim, return_state=True, dropout=0.2, recurrent_dropout=0.2)(encoder_embeddings)\n",
    "\n",
    "encoder_outputs, state_h, state_c = encoder\n",
    "\n",
    "encoder_states = [state_h, state_c]\n",
    "\n",
    "\n",
    "decoder_inputs = Input(shape=(max_ans_len,))\n",
    "decoder_embeddings = embedding_layer(decoder_inputs)\n",
    "decoder_lstm = LSTM(state_dim, return_sequences=True, return_state=True, dropout=0.2, recurrent_dropout=0.2)\n",
    "\n",
    "decoder_outputs, _, _ = decoder_lstm(decoder_embeddings, initial_state=encoder_states)\n",
    "outputs = TimeDistributed(Dense(vocab_len, activation='softmax'))(decoder_outputs)\n",
    "\n",
    "\n",
    "model = Model([encoder_inputs, decoder_inputs], outputs)\n",
    "\n",
    "if load:\n",
    "    weights = pickle.load(open(path, 'rb'))\n",
    "    model.set_weights(weights)\n",
    "model.summary()"
   ]
  },
  {
   "cell_type": "code",
   "execution_count": 8,
   "metadata": {},
   "outputs": [],
   "source": [
    "opt = Adam(lr=0.0001)\n",
    "model.compile(optimizer=opt, loss='sparse_categorical_crossentropy')"
   ]
  },
  {
   "cell_type": "code",
   "execution_count": 9,
   "metadata": {},
   "outputs": [
    {
     "name": "stdout",
     "output_type": "stream",
     "text": [
      "1000/1000 [==============================] - 123s 123ms/sample - loss: 0.3060\n"
     ]
    }
   ],
   "source": [
    "model.fit([encoder_input_data[:1000], decoder_input_data[:1000]], decoder_target_data[:1000],\n",
    "          batch_size=batch_size, epochs=epochs)\n",
    "model.save(path)"
   ]
  },
  {
   "cell_type": "code",
   "execution_count": 10,
   "metadata": {},
   "outputs": [],
   "source": [
    "encoder_input_val, decoder_input_val, decoder_target_val = preprocess(val_data)"
   ]
  },
  {
   "cell_type": "code",
   "execution_count": null,
   "metadata": {},
   "outputs": [
    {
     "name": "stdout",
     "output_type": "stream",
     "text": [
      "10112/10570 [===========================>..] - ETA: 16s - loss: 0.3915"
     ]
    }
   ],
   "source": [
    "model.evaluate([encoder_input_val, decoder_input_val], decoder_target_val)"
   ]
  },
  {
   "cell_type": "code",
   "execution_count": null,
   "metadata": {},
   "outputs": [],
   "source": []
  }
 ],
 "metadata": {
  "kernelspec": {
   "display_name": "Python 3",
   "language": "python",
   "name": "python3"
  },
  "language_info": {
   "codemirror_mode": {
    "name": "ipython",
    "version": 3
   },
   "file_extension": ".py",
   "mimetype": "text/x-python",
   "name": "python",
   "nbconvert_exporter": "python",
   "pygments_lexer": "ipython3",
   "version": "3.7.3"
  }
 },
 "nbformat": 4,
 "nbformat_minor": 2
}
