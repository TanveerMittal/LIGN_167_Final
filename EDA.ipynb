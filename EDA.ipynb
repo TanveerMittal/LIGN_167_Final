{
 "cells": [
  {
   "cell_type": "code",
   "execution_count": 6,
   "metadata": {},
   "outputs": [],
   "source": [
    "import json\n",
    "import pandas as pd\n",
    "import numpy as np"
   ]
  },
  {
   "cell_type": "code",
   "execution_count": 7,
   "metadata": {},
   "outputs": [],
   "source": [
    "raw = json.load(open(\"data/train.json\"))\n",
    "print(\"Number of topics: %d\" % len(raw[\"data\"])) "
   ]
  },
  {
   "cell_type": "code",
   "execution_count": 79,
   "metadata": {},
   "outputs": [],
   "source": [
    "train = pd.DataFrame(columns=[\"Topic\", \"Question\", \"Answer\", \"Answer start\", \"Plausible Answer\",\n",
    "                              \"Plausible answer start\", \"Is impossible\", \"Context\"])\n",
    "contexts = []"
   ]
  },
  {
   "cell_type": "code",
   "execution_count": 80,
   "metadata": {},
   "outputs": [],
   "source": [
    "row = 0\n",
    "for i in range(len(raw[\"data\"])):\n",
    "    for j in range(len(raw[\"data\"][i][\"paragraphs\"])):\n",
    "        contexts.append(raw[\"data\"][i][\"paragraphs\"][j]['context'])\n",
    "        for k in range(len(raw[\"data\"][i][\"paragraphs\"][j][\"qas\"])):\n",
    "            qa = raw[\"data\"][i][\"paragraphs\"][j][\"qas\"][k]\n",
    "            title = raw[\"data\"][i][\"title\"]\n",
    "            question = qa[\"question\"]\n",
    "            \n",
    "            if(len(qa[\"answers\"])):\n",
    "                answer = qa[\"answers\"][0][\"text\"]\n",
    "                answer_start = qa[\"answers\"][0][\"answer_start\"]\n",
    "            else:\n",
    "                answer = None\n",
    "                answer_start = None\n",
    "                \n",
    "            if('plausible_answers' in qa.keys() and len(qa[\"plausible_answers\"])):\n",
    "                plausible = qa[\"plausible_answers\"][0][\"text\"]\n",
    "                plausible_start = qa[\"plausible_answers\"][0][\"answer_start\"]\n",
    "            else:\n",
    "                plausible = None\n",
    "                plausible_start = None\n",
    "                \n",
    "            is_impossible = qa[\"is_impossible\"]\n",
    "            train.loc[row] = [title, question, answer, answer_start, plausible, plausible_start, is_impossible, len(contexts)-1]\n",
    "            row += 1"
   ]
  },
  {
   "cell_type": "code",
   "execution_count": 81,
   "metadata": {},
   "outputs": [
    {
     "data": {
      "text/html": [
       "<div>\n",
       "<style scoped>\n",
       "    .dataframe tbody tr th:only-of-type {\n",
       "        vertical-align: middle;\n",
       "    }\n",
       "\n",
       "    .dataframe tbody tr th {\n",
       "        vertical-align: top;\n",
       "    }\n",
       "\n",
       "    .dataframe thead th {\n",
       "        text-align: right;\n",
       "    }\n",
       "</style>\n",
       "<table border=\"1\" class=\"dataframe\">\n",
       "  <thead>\n",
       "    <tr style=\"text-align: right;\">\n",
       "      <th></th>\n",
       "      <th>Topic</th>\n",
       "      <th>Question</th>\n",
       "      <th>Answer</th>\n",
       "      <th>Answer start</th>\n",
       "      <th>Plausible Answer</th>\n",
       "      <th>Plausible answer start</th>\n",
       "      <th>Is impossible</th>\n",
       "      <th>Context</th>\n",
       "    </tr>\n",
       "  </thead>\n",
       "  <tbody>\n",
       "    <tr>\n",
       "      <th>0</th>\n",
       "      <td>Beyoncé</td>\n",
       "      <td>When did Beyonce start becoming popular?</td>\n",
       "      <td>in the late 1990s</td>\n",
       "      <td>269</td>\n",
       "      <td>None</td>\n",
       "      <td>None</td>\n",
       "      <td>False</td>\n",
       "      <td>0</td>\n",
       "    </tr>\n",
       "    <tr>\n",
       "      <th>1</th>\n",
       "      <td>Beyoncé</td>\n",
       "      <td>What areas did Beyonce compete in when she was...</td>\n",
       "      <td>singing and dancing</td>\n",
       "      <td>207</td>\n",
       "      <td>None</td>\n",
       "      <td>None</td>\n",
       "      <td>False</td>\n",
       "      <td>0</td>\n",
       "    </tr>\n",
       "    <tr>\n",
       "      <th>2</th>\n",
       "      <td>Beyoncé</td>\n",
       "      <td>When did Beyonce leave Destiny's Child and bec...</td>\n",
       "      <td>2003</td>\n",
       "      <td>526</td>\n",
       "      <td>None</td>\n",
       "      <td>None</td>\n",
       "      <td>False</td>\n",
       "      <td>0</td>\n",
       "    </tr>\n",
       "    <tr>\n",
       "      <th>3</th>\n",
       "      <td>Beyoncé</td>\n",
       "      <td>In what city and state did Beyonce  grow up?</td>\n",
       "      <td>Houston, Texas</td>\n",
       "      <td>166</td>\n",
       "      <td>None</td>\n",
       "      <td>None</td>\n",
       "      <td>False</td>\n",
       "      <td>0</td>\n",
       "    </tr>\n",
       "    <tr>\n",
       "      <th>4</th>\n",
       "      <td>Beyoncé</td>\n",
       "      <td>In which decade did Beyonce become famous?</td>\n",
       "      <td>late 1990s</td>\n",
       "      <td>276</td>\n",
       "      <td>None</td>\n",
       "      <td>None</td>\n",
       "      <td>False</td>\n",
       "      <td>0</td>\n",
       "    </tr>\n",
       "  </tbody>\n",
       "</table>\n",
       "</div>"
      ],
      "text/plain": [
       "     Topic                                           Question  \\\n",
       "0  Beyoncé           When did Beyonce start becoming popular?   \n",
       "1  Beyoncé  What areas did Beyonce compete in when she was...   \n",
       "2  Beyoncé  When did Beyonce leave Destiny's Child and bec...   \n",
       "3  Beyoncé      In what city and state did Beyonce  grow up?    \n",
       "4  Beyoncé         In which decade did Beyonce become famous?   \n",
       "\n",
       "                Answer Answer start Plausible Answer Plausible answer start  \\\n",
       "0    in the late 1990s          269             None                   None   \n",
       "1  singing and dancing          207             None                   None   \n",
       "2                 2003          526             None                   None   \n",
       "3       Houston, Texas          166             None                   None   \n",
       "4           late 1990s          276             None                   None   \n",
       "\n",
       "  Is impossible Context  \n",
       "0         False       0  \n",
       "1         False       0  \n",
       "2         False       0  \n",
       "3         False       0  \n",
       "4         False       0  "
      ]
     },
     "execution_count": 81,
     "metadata": {},
     "output_type": "execute_result"
    }
   ],
   "source": [
    "train.head()"
   ]
  },
  {
   "cell_type": "code",
   "execution_count": 82,
   "metadata": {},
   "outputs": [
    {
     "data": {
      "text/plain": [
       "19034"
      ]
     },
     "execution_count": 82,
     "metadata": {},
     "output_type": "execute_result"
    }
   ],
   "source": [
    "max(train[\"Context\"])"
   ]
  },
  {
   "cell_type": "code",
   "execution_count": 83,
   "metadata": {},
   "outputs": [
    {
     "data": {
      "text/plain": [
       "19035"
      ]
     },
     "execution_count": 83,
     "metadata": {},
     "output_type": "execute_result"
    }
   ],
   "source": [
    "len(contexts)"
   ]
  },
  {
   "cell_type": "code",
   "execution_count": 85,
   "metadata": {},
   "outputs": [],
   "source": [
    "train.to_csv(\"data/train.csv\", index=False)"
   ]
  },
  {
   "cell_type": "code",
   "execution_count": null,
   "metadata": {},
   "outputs": [],
   "source": []
  }
 ],
 "metadata": {
  "kernelspec": {
   "display_name": "Python 3",
   "language": "python",
   "name": "python3"
  },
  "language_info": {
   "codemirror_mode": {
    "name": "ipython",
    "version": 3
   },
   "file_extension": ".py",
   "mimetype": "text/x-python",
   "name": "python",
   "nbconvert_exporter": "python",
   "pygments_lexer": "ipython3",
   "version": "3.6.5"
  }
 },
 "nbformat": 4,
 "nbformat_minor": 2
}
