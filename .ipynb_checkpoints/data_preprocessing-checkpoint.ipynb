{
 "cells": [
  {
   "cell_type": "code",
   "execution_count": null,
   "metadata": {},
   "outputs": [],
   "source": [
    "import re\n",
    "import json\n",
    "import pickle\n",
    "import pandas as pd"
   ]
  },
  {
   "cell_type": "code",
   "execution_count": null,
   "metadata": {},
   "outputs": [],
   "source": [
    "def json_to_df(raw):\n",
    "    df = pd.DataFrame(columns=[\"Topic\", \"Question\", \"Answer\", \"Answer start\", \"Plausible Answer\",\n",
    "                                  \"Plausible answer start\", \"Is impossible\", \"Context\"])\n",
    "    contexts = []\n",
    "    row = 0\n",
    "    for i in range(len(raw[\"data\"])):\n",
    "        for j in range(len(raw[\"data\"][i][\"paragraphs\"])):\n",
    "            contexts.append(raw[\"data\"][i][\"paragraphs\"][j]['context'])\n",
    "            for k in range(len(raw[\"data\"][i][\"paragraphs\"][j][\"qas\"])):\n",
    "                qa = raw[\"data\"][i][\"paragraphs\"][j][\"qas\"][k]\n",
    "                title = raw[\"data\"][i][\"title\"]\n",
    "                question = qa[\"question\"]\n",
    "\n",
    "                if(len(qa[\"answers\"])):\n",
    "                    answer = qa[\"answers\"][0][\"text\"]\n",
    "                    answer_start = qa[\"answers\"][0][\"answer_start\"]\n",
    "                else:\n",
    "                    answer = None\n",
    "                    answer_start = None\n",
    "\n",
    "                if('plausible_answers' in qa.keys() and len(qa[\"plausible_answers\"])):\n",
    "                    plausible = qa[\"plausible_answers\"][0][\"text\"]\n",
    "                    plausible_start = qa[\"plausible_answers\"][0][\"answer_start\"]\n",
    "                else:\n",
    "                    plausible = None\n",
    "                    plausible_start = None\n",
    "\n",
    "                is_impossible = qa[\"is_impossible\"]\n",
    "                df.loc[row] = [title, question, answer, answer_start, plausible, plausible_start, is_impossible, len(contexts)-1]\n",
    "                row += 1\n",
    "    return df, contexts"
   ]
  },
  {
   "cell_type": "code",
   "execution_count": null,
   "metadata": {},
   "outputs": [],
   "source": [
    "train, train_contexts = json_to_df(json.load(open(\"data/train.json\")))\n",
    "test, test_contexts = json_to_df(json.load(open(\"data/validation.json\")))"
   ]
  },
  {
   "cell_type": "code",
   "execution_count": null,
   "metadata": {},
   "outputs": [],
   "source": [
    "train.to_csv(\"data/train.csv\", index=False)\n",
    "test.to_csv(\"data/validation.csv\", index=False)"
   ]
  },
  {
   "cell_type": "code",
   "execution_count": null,
   "metadata": {},
   "outputs": [],
   "source": [
    "split = lambda x: re.findall(r\"[\\w']+|[.,!?;]\", x.lower()) if x is not None else None\n",
    "\n",
    "def json_to_dct(raw):\n",
    "    qas = []\n",
    "    for i in range(len(raw[\"data\"])):\n",
    "        for j in range(len(raw[\"data\"][i][\"paragraphs\"])):\n",
    "            for k in range(len(raw[\"data\"][i][\"paragraphs\"][j][\"qas\"])):\n",
    "                qa = raw[\"data\"][i][\"paragraphs\"][j][\"qas\"][k]\n",
    "                question = qa[\"question\"]\n",
    "                if(qa[\"is_impossible\"]):\n",
    "                    answer = None\n",
    "                else:\n",
    "                    answer = qa[\"answers\"][0][\"text\"]\n",
    "                    \n",
    "                is_impossible = qa[\"is_impossible\"]\n",
    "                qas.append({\"question\": split(question), \n",
    "                            \"answer\": split(answer), \n",
    "                            \"context\": split(raw[\"data\"][i][\"paragraphs\"][j]['context'])})\n",
    "    return qas"
   ]
  },
  {
   "cell_type": "code",
   "execution_count": null,
   "metadata": {},
   "outputs": [],
   "source": [
    "train = json_to_dct(json.load(open(\"data/train.json\")))\n",
    "validation = json_to_dct(json.load(open(\"data/validation.json\")))"
   ]
  },
  {
   "cell_type": "code",
   "execution_count": null,
   "metadata": {},
   "outputs": [],
   "source": [
    "pickle.dump(train, open(\"data/train.pkl\", \"wb\"))\n",
    "pickle.dump(validation, open(\"data/validation.pkl\", \"wb\"))"
   ]
  }
 ],
 "metadata": {
  "kernelspec": {
   "display_name": "Python 3",
   "language": "python",
   "name": "python3"
  },
  "language_info": {
   "codemirror_mode": {
    "name": "ipython",
    "version": 3
   },
   "file_extension": ".py",
   "mimetype": "text/x-python",
   "name": "python",
   "nbconvert_exporter": "python",
   "pygments_lexer": "ipython3",
   "version": "3.7.4"
  }
 },
 "nbformat": 4,
 "nbformat_minor": 2
}
