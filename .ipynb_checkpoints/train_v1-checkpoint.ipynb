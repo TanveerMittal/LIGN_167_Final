{
 "cells": [
  {
   "cell_type": "code",
   "execution_count": 1,
   "metadata": {},
   "outputs": [],
   "source": [
    "import pickle\n",
    "from utils import *\n",
    "import numpy as np\n",
    "import matplotlib.pyplot as plt\n",
    "import torch\n",
    "from modeling.LSTM_encoder_decoder import *"
   ]
  },
  {
   "cell_type": "code",
   "execution_count": 2,
   "metadata": {},
   "outputs": [
    {
     "name": "stdout",
     "output_type": "stream",
     "text": [
      "130319 questions in our training set\n"
     ]
    }
   ],
   "source": [
    "training_data = pickle.load(open(\"data/train.pkl\", \"rb\"))\n",
    "print(\"%d questions in our training set\" % len(training_data))"
   ]
  },
  {
   "cell_type": "code",
   "execution_count": 3,
   "metadata": {},
   "outputs": [
    {
     "name": "stdout",
     "output_type": "stream",
     "text": [
      "400004 words in our model's vocabulary\n"
     ]
    }
   ],
   "source": [
    "words_to_index, index_to_words, word_to_vec_map = pickle.load(open(\"embeddings/glove.6B.50d.pkl\", \"rb\"))\n",
    "print(\"%d words in our model's vocabulary\" % len(word_to_vec_map))"
   ]
  },
  {
   "cell_type": "code",
   "execution_count": 10,
   "metadata": {},
   "outputs": [],
   "source": [
    "n_h = 100\n",
    "n_x = word_to_vec_map[\"a\"].shape[0]\n",
    "n_y = len(index_to_words)\n",
    "model_name = \"LSTMv1\""
   ]
  },
  {
   "cell_type": "code",
   "execution_count": 11,
   "metadata": {},
   "outputs": [],
   "source": [
    "encoder_params = lstm_encoder_init(n_h, n_x)\n",
    "decoder_params = lstm_decoder_init(n_h, n_y)"
   ]
  },
  {
   "cell_type": "code",
   "execution_count": null,
   "metadata": {},
   "outputs": [
    {
     "name": "stdout",
     "output_type": "stream",
     "text": [
      "Starting epoch #1\n",
      "Batch 1/2037, Cost: 15.080188\n"
     ]
    }
   ],
   "source": [
    "encoder_params, decoder_params = train(training_data, encoder_params, decoder_params,\n",
    "                                       word_to_vec_map, words_to_index, model_name,\n",
    "                                       learning_rate=0.01, batch_size=32 epochs=1)"
   ]
  },
  {
   "cell_type": "code",
   "execution_count": 14,
   "metadata": {},
   "outputs": [],
   "source": [
    "qac = training_data[0]\n",
    "\n",
    "single_categorical_crossentropy = lambda y, y_hat: -torch.sum(torch.mul(y, torch.log(y_hat)))\n",
    "\n",
    "# Function to compute categorical crossentropy loss for a sequence\n",
    "def sequence_categorical_crossentropy(y, y_hat):\n",
    "    loss = torch.zeros([])\n",
    "    for i in range(len(y)):\n",
    "        loss = loss + single_categorical_crossentropy(y[i], y_hat[i])\n",
    "    return loss"
   ]
  },
  {
   "cell_type": "code",
   "execution_count": 15,
   "metadata": {},
   "outputs": [],
   "source": [
    "y = []\n",
    "for word in qac[\"answer\"] + [\"<end>\"]:\n",
    "    if not word in words_to_index:\n",
    "        word = \"<unk>\"\n",
    "    y.append(one_hot(words_to_index[word], len(words_to_index)))\n"
   ]
  },
  {
   "cell_type": "code",
   "execution_count": 16,
   "metadata": {},
   "outputs": [
    {
     "name": "stdout",
     "output_type": "stream",
     "text": [
      "76.70964050292969\n"
     ]
    }
   ],
   "source": [
    "# y = torch.cat(y, 1)\n",
    "\n",
    "# Create encoding of query and context\n",
    "encoding = lstm_encode(qac, word_to_vec_map, encoder_params)\n",
    "\n",
    "# Decode the encoding into probability distributions\n",
    "y_hat = lstm_decode(qac, encoding, words_to_index, decoder_params)\n",
    "\n",
    "# Compute categorical crossentropy loss\n",
    "loss = sequence_categorical_crossentropy(y, y_hat)\n",
    "print(loss.item())"
   ]
  },
  {
   "cell_type": "code",
   "execution_count": 17,
   "metadata": {},
   "outputs": [
    {
     "name": "stdout",
     "output_type": "stream",
     "text": [
      "76.70964050292969\n"
     ]
    }
   ],
   "source": [
    "y = torch.cat(y, 1)\n",
    "\n",
    "# Create encoding of query and context\n",
    "encoding = lstm_encode(qac, word_to_vec_map, encoder_params)\n",
    "\n",
    "# Decode the encoding into probability distributions\n",
    "y_hat = lstm_decode(qac, encoding, words_to_index, decoder_params)\n",
    "\n",
    "y_hat = torch.cat(y_hat, 1)\n",
    "# Compute categorical crossentropy loss\n",
    "loss = single_categorical_crossentropy(y, y_hat)\n",
    "print(loss.item())"
   ]
  },
  {
   "cell_type": "code",
   "execution_count": 22,
   "metadata": {},
   "outputs": [
    {
     "data": {
      "text/plain": [
       "5"
      ]
     },
     "execution_count": 22,
     "metadata": {},
     "output_type": "execute_result"
    }
   ],
   "source": [
    "y_hat.shape[1]"
   ]
  },
  {
   "cell_type": "code",
   "execution_count": null,
   "metadata": {},
   "outputs": [],
   "source": []
  }
 ],
 "metadata": {
  "kernelspec": {
   "display_name": "Python 3",
   "language": "python",
   "name": "python3"
  },
  "language_info": {
   "codemirror_mode": {
    "name": "ipython",
    "version": 3
   },
   "file_extension": ".py",
   "mimetype": "text/x-python",
   "name": "python",
   "nbconvert_exporter": "python",
   "pygments_lexer": "ipython3",
   "version": "3.6.5"
  }
 },
 "nbformat": 4,
 "nbformat_minor": 2
}
