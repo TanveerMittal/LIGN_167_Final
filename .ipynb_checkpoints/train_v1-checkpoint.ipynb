{
 "cells": [
  {
   "cell_type": "code",
   "execution_count": 1,
   "metadata": {},
   "outputs": [],
   "source": [
    "import pickle\n",
    "from utils import *\n",
    "import numpy as np\n",
    "import matplotlib.pyplot as plt\n",
    "import torch\n",
    "from modeling.LSTM_encoder_decoder import *"
   ]
  },
  {
   "cell_type": "code",
   "execution_count": 2,
   "metadata": {},
   "outputs": [
    {
     "name": "stdout",
     "output_type": "stream",
     "text": [
      "130319 questions in our training set\n"
     ]
    }
   ],
   "source": [
    "training_data = pickle.load(open(\"data/train.pkl\", \"rb\"))\n",
    "print(\"%d questions in our training set\" % len(training_data))"
   ]
  },
  {
   "cell_type": "code",
   "execution_count": 3,
   "metadata": {},
   "outputs": [
    {
     "name": "stdout",
     "output_type": "stream",
     "text": [
      "400004 words in our model's vocabulary\n"
     ]
    }
   ],
   "source": [
    "words_to_index, index_to_words, word_to_vec_map = pickle.load(open(\"embeddings/glove.6B.50d.pkl\", \"rb\"))\n",
    "print(\"%d words in our model's vocabulary\" % len(word_to_vec_map))"
   ]
  },
  {
   "cell_type": "code",
   "execution_count": 6,
   "metadata": {},
   "outputs": [],
   "source": [
    "n_h = 100\n",
    "n_x = word_to_vec_map[\"a\"].shape[0]\n",
    "n_y = len(index_to_words)\n",
    "model_name = \"LSTMv1\""
   ]
  },
  {
   "cell_type": "code",
   "execution_count": 5,
   "metadata": {},
   "outputs": [],
   "source": [
    "encoder_params = lstm_encoder_init(n_h, n_x)\n",
    "decoder_params = lstm_decoder_init(n_h, n_x, n_y)"
   ]
  },
  {
   "cell_type": "code",
   "execution_count": null,
   "metadata": {},
   "outputs": [],
   "source": [
    "encoder_params, decoder_params = train(training_data, encoder_params, decoder_params,\n",
    "                                       word_to_vec_map, words_to_index, \"modeling/logs/%s.txt\" % model_name,\n",
    "                                       learning_rate=0.01, epochs=3)"
   ]
  },
  {
   "cell_type": "code",
   "execution_count": null,
   "metadata": {},
   "outputs": [],
   "source": []
  }
 ],
 "metadata": {
  "kernelspec": {
   "display_name": "Python 3",
   "language": "python",
   "name": "python3"
  },
  "language_info": {
   "codemirror_mode": {
    "name": "ipython",
    "version": 3
   },
   "file_extension": ".py",
   "mimetype": "text/x-python",
   "name": "python",
   "nbconvert_exporter": "python",
   "pygments_lexer": "ipython3",
   "version": "3.7.4"
  }
 },
 "nbformat": 4,
 "nbformat_minor": 2
}
